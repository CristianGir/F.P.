{
 "cells": [
  {
   "cell_type": "code",
   "execution_count": null,
   "metadata": {},
   "outputs": [],
   "source": [
    "mes=None\n",
    "dia=None\n",
    "m31={1,3,5,7,8,10,12}\n",
    "m30={4,6,9,11}\n",
    "mes=float(input('Introduzca un número de acuerdo al mes:\\n1. Enero.\\n2. Febrero.\\n3. Marzo.\\n4. Abril.\\n5. Mayo.\\n6. Junio.\\\n",
    "\\n7. Julio.\\n8. Agosto.\\n9. Septiembre.\\n10. Octubre.\\n11. Noviembre.\\n12. Diciembre.\\n:'))\n",
    "mes=round(mes,0)\n",
    "while mes<=0 or mes>12:\n",
    "    mes=float(input('Por favor introduzca una opción válida:\\n1. Enero.\\n2. Febrero.\\n3. Marzo.\\n4. Abril.\\n5. Mayo.\\n6. Junio.\\\n",
    "\\n7. Julio.\\n8. Agosto.\\n9. Septiembre.\\n10. Octubre.\\n11. Noviembre.\\n12. Diciembre.\\n:'))\n",
    "    mes=int(mes)\n",
    "dia=float(input('Introduzca un número de acuerdo al día que desee: '))\n",
    "dia=int(dia)\n",
    "while dia<=0:\n",
    "    dia=float(input('Ingrese un número válido: '))\n",
    "while mes in m31 and dia>31 or dia<=0:\n",
    "    dia=float(input('Ingrese un número válido: '))\n",
    "while mes in m30 and dia>30 or dia<=0:\n",
    "    dia=float(input('Ingrese un número válido: '))\n",
    "while mes==2 and dia>29 or dia<=0:\n",
    "    dia=float(input('Ingrese un número válido: '))\n",
    "dia=int(dia)\n",
    "mes=int(mes)\n",
    "if mes==1:\n",
    "    mes='Enero'\n",
    "elif mes==2:\n",
    "    mes='Febrero'\n",
    "elif mes==3:\n",
    "    mes='Marzo'\n",
    "elif mes==4:\n",
    "    mes='Abril'\n",
    "elif mes==5:\n",
    "    mes='Mayo'\n",
    "elif mes==6:\n",
    "    mes='Junio'\n",
    "elif mes==7:\n",
    "    mes='Julio'\n",
    "elif mes==8:\n",
    "    mes='Agosto'\n",
    "elif mes==9:\n",
    "    mes='Septiembre'\n",
    "elif mes==10:\n",
    "    mes='Octubre'\n",
    "elif mes==11:\n",
    "    mes='Noviembre'\n",
    "elif mes==12:\n",
    "    mes='Diciembre'\n",
    "print('Su selección fue el',dia,'de',mes)"
   ]
  }
 ],
 "metadata": {
  "kernelspec": {
   "display_name": "Python 3",
   "language": "python",
   "name": "python3"
  },
  "language_info": {
   "codemirror_mode": {
    "name": "ipython",
    "version": 3
   },
   "file_extension": ".py",
   "mimetype": "text/x-python",
   "name": "python",
   "nbconvert_exporter": "python",
   "pygments_lexer": "ipython3",
   "version": "3.8.5"
  }
 },
 "nbformat": 4,
 "nbformat_minor": 4
}

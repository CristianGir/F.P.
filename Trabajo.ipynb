{
 "cells": [
  {
   "cell_type": "code",
   "execution_count": null,
   "metadata": {},
   "outputs": [],
   "source": [
    "#Petición de nombre.\n",
    "n=input('¿Cuál es su nombre?: ')"
   ]
  },
  {
   "cell_type": "code",
   "execution_count": null,
   "metadata": {},
   "outputs": [],
   "source": [
    "#Saludo y explicación.\n",
    "print('¡Hola ',n, '!')\n",
    "print('\\nVamos a comprobar si puede aprobar la materia teniendo en cuenta las notas de sus parciales y sus inasistencias ')"
   ]
  },
  {
   "cell_type": "code",
   "execution_count": null,
   "metadata": {},
   "outputs": [],
   "source": [
    "#Variable de primer parcial.\n",
    "pp=float(input('Ingrese la nota de su primer parcial: '))\n",
    "while (pp<0)or(pp>5):\n",
    "    pp=float(input('Ingrese un número válido: '))"
   ]
  },
  {
   "cell_type": "code",
   "execution_count": null,
   "metadata": {},
   "outputs": [],
   "source": [
    "#Variable de segundo parcial.\n",
    "sp=float(input('Ingrese la nota de su segundo parcial: '))\n",
    "while (sp<0)or(sp>5):\n",
    "    sp=float(input('Ingrese un número válido: '))"
   ]
  },
  {
   "cell_type": "code",
   "execution_count": null,
   "metadata": {},
   "outputs": [],
   "source": [
    "#Variable de tercer parcial.\n",
    "tp=float(input('Ingrese la nota de su tercer parcial: '))\n",
    "while (tp<0)or(tp>5):\n",
    "    tp=float(input('Ingrese un número válido: '))"
   ]
  },
  {
   "cell_type": "code",
   "execution_count": null,
   "metadata": {},
   "outputs": [],
   "source": [
    "#Variable de inasistencias.\n",
    "inas=int(input('Ingrese la cantidad de inasistencias que presente: '))\n",
    "while inas<0:\n",
    "    inas=int(input('Ingrese un valor válido: '))"
   ]
  },
  {
   "cell_type": "code",
   "execution_count": null,
   "metadata": {},
   "outputs": [],
   "source": [
    "#Entrega de resultado.\n",
    "porcentaje=((pp/100)*35)+((sp/100)*35)+((tp/100)*30)\n",
    "if (porcentaje>=3.0)and(inas<=12):\n",
    "    print('Usted aprobó académicamente con un ',round(porcentaje,2),' y presentó ',inas,' inasistencias.')\n",
    "elif (porcentaje<3.0)and(inas<=12):\n",
    "    print('Usted reprobó académicamente con un ',round(porcentaje,2),' y presentó ',inas,' inasistencias.')\n",
    "elif (porcentaje>=3.0)and(inas>12):\n",
    "    print('Usted aprobó académicamente con un ',round(porcentaje,2),' pero repobró al tener ',inas,' inasistencias.')\n",
    "elif (porcentaje<3.0)and(inas>12):\n",
    "    print('Usted reporbó académicamente con un ',round(porcentaje,2),' y reprobó al tener ',inas,' inasistencias.')"
   ]
  }
 ],
 "metadata": {
  "kernelspec": {
   "display_name": "Python 3",
   "language": "python",
   "name": "python3"
  },
  "language_info": {
   "codemirror_mode": {
    "name": "ipython",
    "version": 3
   },
   "file_extension": ".py",
   "mimetype": "text/x-python",
   "name": "python",
   "nbconvert_exporter": "python",
   "pygments_lexer": "ipython3",
   "version": "3.8.5"
  }
 },
 "nbformat": 4,
 "nbformat_minor": 4
}

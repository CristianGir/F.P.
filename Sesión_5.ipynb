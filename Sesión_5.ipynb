{
  "nbformat": 4,
  "nbformat_minor": 0,
  "metadata": {
    "colab": {
      "name": "Sesión-5.ipynb",
      "provenance": [],
      "collapsed_sections": []
    },
    "kernelspec": {
      "name": "python3",
      "display_name": "Python 3"
    }
  },
  "cells": [
    {
      "cell_type": "code",
      "metadata": {
        "colab": {
          "base_uri": "https://localhost:8080/"
        },
        "id": "yTdaI-k7sDij",
        "outputId": "d279ba17-d292-40be-95c1-a9a01e4c41eb"
      },
      "source": [
        "A=int(input('Ingrese el número entero A: '))\r\n",
        "B=int(input('Ingrese el número entero B: '))\r\n",
        "C=int(input('Ingrese el número entero C: '))\r\n",
        "if A<B and A<C:\r\n",
        "    print(A)\r\n",
        "    if B<C:\r\n",
        "        print(B)\r\n",
        "        print(C)\r\n",
        "    else:\r\n",
        "        print(C)\r\n",
        "        print(B)\r\n",
        "elif B<A and B<C:\r\n",
        "    print(B)\r\n",
        "    if A<C:\r\n",
        "        print(A)\r\n",
        "        print(C)\r\n",
        "    else:\r\n",
        "        print(C)\r\n",
        "        print(A)\r\n",
        "elif C<A and C<B:\r\n",
        "    print(C)\r\n",
        "    if A<B:\r\n",
        "        print(A)\r\n",
        "        print(B)\r\n",
        "    else:\r\n",
        "        print(B)\r\n",
        "        print(A)"
      ],
      "execution_count": null,
      "outputs": [
        {
          "output_type": "stream",
          "text": [
            "Ingrese el número entero A: 40\n",
            "Ingrese el número entero B: 98\n",
            "Ingrese el número entero C: 4\n",
            "4\n",
            "40\n",
            "98\n"
          ],
          "name": "stdout"
        }
      ]
    }
  ]
}
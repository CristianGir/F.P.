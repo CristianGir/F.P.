{
 "cells": [
  {
   "cell_type": "code",
   "execution_count": null,
   "metadata": {},
   "outputs": [],
   "source": [
    "l=list(range(0,101))\n",
    "num=0\n",
    "for i in l:\n",
    "    num=i+num\n",
    "print('Usando \"for\".')\n",
    "print('El resultado de la suma de 0 a 100 es:',num)\n",
    "num=0\n",
    "i=0\n",
    "while i in l:\n",
    "    num=i+num\n",
    "    i=i+1\n",
    "print('Usando \"while\".')\n",
    "print('El resultado de la suma de 0 a 100 es:',num)"
   ]
  }
 ],
 "metadata": {
  "kernelspec": {
   "display_name": "Python 3",
   "language": "python",
   "name": "python3"
  },
  "language_info": {
   "codemirror_mode": {
    "name": "ipython",
    "version": 3
   },
   "file_extension": ".py",
   "mimetype": "text/x-python",
   "name": "python",
   "nbconvert_exporter": "python",
   "pygments_lexer": "ipython3",
   "version": "3.8.5"
  }
 },
 "nbformat": 4,
 "nbformat_minor": 4
}

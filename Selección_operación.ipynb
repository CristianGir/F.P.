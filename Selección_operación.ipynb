{
 "cells": [
  {
   "cell_type": "code",
   "execution_count": null,
   "metadata": {},
   "outputs": [],
   "source": [
    "l={1,2,3,4}\n",
    "op=None\n",
    "m='Ingrese el número A: '\n",
    "m1='Ingrese el número B: '\n",
    "print('Escriba el número que represente la operación que desea realizar')\n",
    "seleccionOp=int(input('1. Adición.\\n2. Sustracción.\\n3. Multiplicación.\\n4. División.\\n:'))\n",
    "while not seleccionOp in l:\n",
    "    seleccionOp=int(input('Por favor sellecione una opción válida.\\n1. Adición.\\n2. Sustracción.\\n\\\n",
    "3. Multiplicación.\\n4. División.\\n:'))\n",
    "n1=float(input(m))\n",
    "n2=float(input(m1))\n",
    "if seleccionOp==4 and n2==0:\n",
    "         n2=float(input('No es posible dividir entre cero, por favor ingrese otro número: '))\n",
    "if seleccionOp==1:\n",
    "    op=n1+n2\n",
    "elif seleccionOp==2:\n",
    "         op=n1-n2\n",
    "elif seleccionOp==3:\n",
    "         op=n1*n2\n",
    "elif seleccionOp==4:\n",
    "         op=n1/n2\n",
    "print('El resultado de la operación es: ',round(op,3))"
   ]
  }
 ],
 "metadata": {
  "kernelspec": {
   "display_name": "Python 3",
   "language": "python",
   "name": "python3"
  },
  "language_info": {
   "codemirror_mode": {
    "name": "ipython",
    "version": 3
   },
   "file_extension": ".py",
   "mimetype": "text/x-python",
   "name": "python",
   "nbconvert_exporter": "python",
   "pygments_lexer": "ipython3",
   "version": "3.8.5"
  }
 },
 "nbformat": 4,
 "nbformat_minor": 4
}

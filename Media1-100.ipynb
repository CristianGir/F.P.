{
 "cells": [
  {
   "cell_type": "code",
   "execution_count": null,
   "metadata": {},
   "outputs": [],
   "source": [
    "pos=0\n",
    "neg=0\n",
    "count=1\n",
    "canpos=0\n",
    "canneg=0\n",
    "while count>=1 and count<=100:\n",
    "    n=float(input('Ingrese el número deseado: '))\n",
    "    count=count+1\n",
    "    if n>0:\n",
    "        canpos=canpos+1\n",
    "        pos=pos+n\n",
    "    elif n<0:\n",
    "        canneg=canneg+1\n",
    "        neg=neg+n\n",
    "medpos=pos/canpos     \n",
    "medneg=neg/canneg\n",
    "print('La media de los números positivos es:',round(medpos,2))\n",
    "print('La media de los números negativos es:',round(medneg,2))"
   ]
  }
 ],
 "metadata": {
  "kernelspec": {
   "display_name": "Python 3",
   "language": "python",
   "name": "python3"
  },
  "language_info": {
   "codemirror_mode": {
    "name": "ipython",
    "version": 3
   },
   "file_extension": ".py",
   "mimetype": "text/x-python",
   "name": "python",
   "nbconvert_exporter": "python",
   "pygments_lexer": "ipython3",
   "version": "3.8.5"
  }
 },
 "nbformat": 4,
 "nbformat_minor": 4
}

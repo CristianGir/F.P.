{
 "cells": [
  {
   "cell_type": "code",
   "execution_count": 5,
   "metadata": {},
   "outputs": [
    {
     "name": "stdout",
     "output_type": "stream",
     "text": [
      "Ingrese el capital: 1000\n",
      "Ingrese el porcentaje anual del interés: 5\n",
      "7\n"
     ]
    }
   ],
   "source": [
    "count=1\n",
    "c=float(input('Ingrese el capital: '))\n",
    "r=float(input('Ingrese el porcentaje anual del interés: '))\n",
    "t=(r/100)*c\n",
    "while t<c*2:\n",
    "    t=t+t\n",
    "    count=count+1\n",
    "print(count)"
   ]
  },
  {
   "cell_type": "code",
   "execution_count": null,
   "metadata": {},
   "outputs": [],
   "source": []
  }
 ],
 "metadata": {
  "kernelspec": {
   "display_name": "Python 3",
   "language": "python",
   "name": "python3"
  },
  "language_info": {
   "codemirror_mode": {
    "name": "ipython",
    "version": 3
   },
   "file_extension": ".py",
   "mimetype": "text/x-python",
   "name": "python",
   "nbconvert_exporter": "python",
   "pygments_lexer": "ipython3",
   "version": "3.8.5"
  }
 },
 "nbformat": 4,
 "nbformat_minor": 4
}

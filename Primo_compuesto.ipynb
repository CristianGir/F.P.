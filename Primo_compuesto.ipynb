{
 "cells": [
  {
   "cell_type": "code",
   "execution_count": null,
   "metadata": {},
   "outputs": [],
   "source": [
    "n=float(input('Ingrese un número entero positivo: '))\n",
    "n=int(n)\n",
    "while n<0:\n",
    "    n=float(input('Ingrese un número entero POSITIVO: '))\n",
    "    n=int(n)\n",
    "a=n%2\n",
    "b=n%3\n",
    "c=n%5\n",
    "if a!=0 and b!=0 and c!=0:\n",
    "    print('El número es  primo.')\n",
    "else:\n",
    "    print('El número es compuesto.')"
   ]
  }
 ],
 "metadata": {
  "kernelspec": {
   "display_name": "Python 3",
   "language": "python",
   "name": "python3"
  },
  "language_info": {
   "codemirror_mode": {
    "name": "ipython",
    "version": 3
   },
   "file_extension": ".py",
   "mimetype": "text/x-python",
   "name": "python",
   "nbconvert_exporter": "python",
   "pygments_lexer": "ipython3",
   "version": "3.8.5"
  }
 },
 "nbformat": 4,
 "nbformat_minor": 4
}

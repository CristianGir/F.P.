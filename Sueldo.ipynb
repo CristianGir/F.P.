{
 "cells": [
  {
   "cell_type": "code",
   "execution_count": null,
   "metadata": {},
   "outputs": [],
   "source": [
    "print('Se va a hallar el sueldo mensual teniendo en cuenta factores como la seguridad social y bonificaciones.')"
   ]
  },
  {
   "cell_type": "code",
   "execution_count": null,
   "metadata": {},
   "outputs": [],
   "source": [
    "b=None\n",
    "h=int(input('Ingrese el número de horas trabajadas por día: '))"
   ]
  },
  {
   "cell_type": "code",
   "execution_count": null,
   "metadata": {},
   "outputs": [],
   "source": [
    "v=int(input('Ingrese el valor pagado en dólares por hora de trabajo: '))"
   ]
  },
  {
   "cell_type": "code",
   "execution_count": 3,
   "metadata": {},
   "outputs": [],
   "source": [
    "ih=h*6*4\n",
    "s=ih*v\n",
    "if s<300:\n",
    "    b=2\n",
    "else:\n",
    "    b=0\n",
    "ss=((s/100)*8)\n",
    "bon=((s/100)*b)\n",
    "st=(s-ss)+bon"
   ]
  },
  {
   "cell_type": "code",
   "execution_count": null,
   "metadata": {},
   "outputs": [],
   "source": [
    "if s<300:\n",
    "    print('Su pago por seguridad social es equivalente a $',ss,'dólares.')\n",
    "    print('Por tener un salario base menor a $ 300 dólares, se le da $',bon,'como bonificación.')\n",
    "    print('Sumando lo anterior, su sueldo mensual es de: $',st,'dólares.')\n",
    "elif s>=300:\n",
    "    print('Su pago por seguridad social es equivalente a $',ss,'dólares.')\n",
    "    print('Sumando lo anterior, su sueldo mensual es de: $',st,'dólares.')"
   ]
  }
 ],
 "metadata": {
  "kernelspec": {
   "display_name": "Python 3",
   "language": "python",
   "name": "python3"
  },
  "language_info": {
   "codemirror_mode": {
    "name": "ipython",
    "version": 3
   },
   "file_extension": ".py",
   "mimetype": "text/x-python",
   "name": "python",
   "nbconvert_exporter": "python",
   "pygments_lexer": "ipython3",
   "version": "3.8.5"
  }
 },
 "nbformat": 4,
 "nbformat_minor": 4
}

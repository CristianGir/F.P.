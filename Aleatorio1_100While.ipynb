{
 "cells": [
  {
   "cell_type": "code",
   "execution_count": null,
   "metadata": {},
   "outputs": [],
   "source": [
    "import random\n",
    "cont=0\n",
    "neg=0\n",
    "canneg=1\n",
    "pos=0\n",
    "canpos=1\n",
    "tod=0\n",
    "reg=0\n",
    "may=0\n",
    "men=0\n",
    "mayn=-100\n",
    "menp=1\n",
    "while cont>=0 and cont<=100:\n",
    "    cont=cont+1\n",
    "    d=random.randint(-100,100)\n",
    "    tod=tod+d\n",
    "    print(d)\n",
    "    if d<0:\n",
    "        canneg=canneg+1\n",
    "        neg=neg+d\n",
    "    elif d>0:\n",
    "        canpos=canpos+1\n",
    "        pos=pos+d\n",
    "    reg=d\n",
    "#Mayor todos.\n",
    "    if reg>=may:\n",
    "        may=d\n",
    "#Mayor negativos.\n",
    "    if reg>=mayn and reg<0:\n",
    "            mayn=d\n",
    "#Menor todos.\n",
    "    if reg<=men:\n",
    "        men=d\n",
    "        reg=0\n",
    "#Menor positivos.\n",
    "    if reg<=menp and reg>0:\n",
    "            menp=men\n",
    "    reg=0\n",
    "    prot=tod/100\n",
    "    pron=neg/canneg\n",
    "    prop=pos/canpos\n",
    "    \n",
    "print('La suma total de los números es:',tod)\n",
    "print('El promedio de todos los dígitos es:',round(prot,2))\n",
    "print('La suma de los negativos es:',neg)\n",
    "print('El promedio de los negativos es:',round(pron,2))\n",
    "print('La suma de los positivos es:',pos)\n",
    "print('El promedio de los positivos es:',round(prop,2))\n",
    "print('El menor de todos es:',men)\n",
    "print('El mayor de todos es:',may)\n",
    "print('El menor de los negativos es:',men)\n",
    "print('El mayor de los negativos es:',mayn)\n",
    "print('El menor de los positivos es:',menp)\n",
    "print('El mayor de los positivos es:',may)"
   ]
  }
 ],
 "metadata": {
  "kernelspec": {
   "display_name": "Python 3",
   "language": "python",
   "name": "python3"
  },
  "language_info": {
   "codemirror_mode": {
    "name": "ipython",
    "version": 3
   },
   "file_extension": ".py",
   "mimetype": "text/x-python",
   "name": "python",
   "nbconvert_exporter": "python",
   "pygments_lexer": "ipython3",
   "version": "3.8.5"
  }
 },
 "nbformat": 4,
 "nbformat_minor": 4
}

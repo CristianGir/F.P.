{
 "cells": [
  {
   "cell_type": "code",
   "execution_count": 1,
   "metadata": {},
   "outputs": [
    {
     "name": "stdout",
     "output_type": "stream",
     "text": [
      "Se va a hallar la velocidad requerida para que un vehículo recorra una distancia en determiando tiempo.\n"
     ]
    }
   ],
   "source": [
    "print('Se va a hallar la velocidad requerida para que un vehículo recorra una distancia en determiando tiempo.')"
   ]
  },
  {
   "cell_type": "code",
   "execution_count": 2,
   "metadata": {},
   "outputs": [
    {
     "name": "stdout",
     "output_type": "stream",
     "text": [
      "Ingrese la distancia en km que va a recorrer el vehículo: 100\n"
     ]
    }
   ],
   "source": [
    "d=float(input('Ingrese la distancia en km que va a recorrer el vehículo: '))"
   ]
  },
  {
   "cell_type": "code",
   "execution_count": 3,
   "metadata": {},
   "outputs": [
    {
     "name": "stdout",
     "output_type": "stream",
     "text": [
      "Ingrese el tiempo en horas que tardará el vehículo: 2\n"
     ]
    }
   ],
   "source": [
    "t=float(input('Ingrese el tiempo en horas que tardará el vehículo: '))"
   ]
  },
  {
   "cell_type": "code",
   "execution_count": 5,
   "metadata": {},
   "outputs": [
    {
     "name": "stdout",
     "output_type": "stream",
     "text": [
      "El vehículo tendrá que ir a una velocidad aproximada de 50.0 km/h\n"
     ]
    }
   ],
   "source": [
    "v=d/t\n",
    "print('El vehículo tendrá que ir a una velocidad aproximada de',round(v,3),'km/h')"
   ]
  },
  {
   "cell_type": "code",
   "execution_count": null,
   "metadata": {},
   "outputs": [],
   "source": []
  }
 ],
 "metadata": {
  "kernelspec": {
   "display_name": "Python 3",
   "language": "python",
   "name": "python3"
  },
  "language_info": {
   "codemirror_mode": {
    "name": "ipython",
    "version": 3
   },
   "file_extension": ".py",
   "mimetype": "text/x-python",
   "name": "python",
   "nbconvert_exporter": "python",
   "pygments_lexer": "ipython3",
   "version": "3.8.5"
  }
 },
 "nbformat": 4,
 "nbformat_minor": 4
}

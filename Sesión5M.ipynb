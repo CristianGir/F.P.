{
  "nbformat": 4,
  "nbformat_minor": 0,
  "metadata": {
    "colab": {
      "name": "Sesión5M.ipynb",
      "provenance": [],
      "collapsed_sections": []
    },
    "kernelspec": {
      "name": "python3",
      "display_name": "Python 3"
    }
  },
  "cells": [
    {
      "cell_type": "code",
      "metadata": {
        "id": "60ehKQgb_Krb"
      },
      "source": [
        "A=int(input('Ingrese el número entero A: '))\r\n",
        "B=int(input('Ingrese el número entero B: '))\r\n",
        "C=int(input('Ingrese el número entero C: '))\r\n",
        "\r\n",
        "if A>B and A>C:\r\n",
        "    print(A)\r\n",
        "    if B>C:\r\n",
        "        print(B)\r\n",
        "        print(C)\r\n",
        "    else:\r\n",
        "        print(C)\r\n",
        "        print(B)\r\n",
        "elif B>A and B>C:\r\n",
        "    print(B)\r\n",
        "    if A>C:\r\n",
        "        print(A)\r\n",
        "        print(C)\r\n",
        "    else:\r\n",
        "        print(C)\r\n",
        "        print(A)\r\n",
        "elif C>A and C>B:\r\n",
        "    print(C)\r\n",
        "    if A>B:\r\n",
        "        print(A)\r\n",
        "        print(B)\r\n",
        "    else:\r\n",
        "        print(B)\r\n",
        "        print(A)\r\n"
      ],
      "execution_count": null,
      "outputs": []
    }
  ]
}
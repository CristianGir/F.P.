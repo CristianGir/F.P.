{
 "cells": [
  {
   "cell_type": "code",
   "execution_count": null,
   "metadata": {},
   "outputs": [],
   "source": [
    "error=0\n",
    "count=0\n",
    "mi=0\n",
    "ma=0\n",
    "conf='y'\n",
    "while conf=='y':\n",
    "    temin=float(input('Ingrese la temperatura mínima proporcionada: '))\n",
    "    temax=float(input('Ingrese la temperatura máxima proporcionada: '))\n",
    "    while temin>temax:\n",
    "        temin=float(input('Ingrese la temperatura mínima proporcionada: '))\n",
    "        temax=float(input('Ingrese la temperatura máxima proporcionada: '))\n",
    "    count=count+1\n",
    "    mi=mi+temin\n",
    "    ma=ma+temax\n",
    "    if temin==9 or temax==9:\n",
    "        error=error+1\n",
    "    conf=input('Si desea introducir otra pareja de datos ingrese \"Y\", de lo contrario, ingrese \"N\": ')\n",
    "    conf=conf.lower()\n",
    "    while conf!='y' and conf!='n':\n",
    "        conf=input('Si desea introducir otra pareja de datos ingrese \"Y\", de lo contrario, ingrese \"N\": ')\n",
    "        conf=conf.lower()\n",
    "medmin=mi/count\n",
    "medmax=ma/count\n",
    "porc=(error*100)/count\n",
    "print('Se proporcionó información por',count,'días.')\n",
    "print('El promedio de las temperaturas mínimas es:',medmin)\n",
    "print('El promedio de las temperaturas máximas es:',medmax)\n",
    "print('Se registraron errores',error,'veces.')\n",
    "print('El porcentaje de errores es:',porc)"
   ]
  }
 ],
 "metadata": {
  "kernelspec": {
   "display_name": "Python 3",
   "language": "python",
   "name": "python3"
  },
  "language_info": {
   "codemirror_mode": {
    "name": "ipython",
    "version": 3
   },
   "file_extension": ".py",
   "mimetype": "text/x-python",
   "name": "python",
   "nbconvert_exporter": "python",
   "pygments_lexer": "ipython3",
   "version": "3.8.5"
  }
 },
 "nbformat": 4,
 "nbformat_minor": 4
}

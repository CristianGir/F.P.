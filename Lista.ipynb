{
 "cells": [
  {
   "cell_type": "code",
   "execution_count": null,
   "metadata": {},
   "outputs": [],
   "source": [
    "count=0\n",
    "pro=0\n",
    "n=float(input('Ingrese los números de la lista para hallar su promedio, para finalizar, ingrese uno negativo: '))\n",
    "while n>0:\n",
    "    n=float(input(':'))\n",
    "    pro=pro+n\n",
    "    count=count+1\n",
    "media=pro/count\n",
    "print('La media de la lista es:',round(media,2))"
   ]
  }
 ],
 "metadata": {
  "kernelspec": {
   "display_name": "Python 3",
   "language": "python",
   "name": "python3"
  },
  "language_info": {
   "codemirror_mode": {
    "name": "ipython",
    "version": 3
   },
   "file_extension": ".py",
   "mimetype": "text/x-python",
   "name": "python",
   "nbconvert_exporter": "python",
   "pygments_lexer": "ipython3",
   "version": "3.8.5"
  }
 },
 "nbformat": 4,
 "nbformat_minor": 4
}

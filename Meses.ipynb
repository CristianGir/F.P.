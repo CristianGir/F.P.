{
 "cells": [
  {
   "cell_type": "code",
   "execution_count": null,
   "metadata": {},
   "outputs": [],
   "source": [
    "m=input('Ingrese el nombre de un mes: ')\n",
    "m=m.lower()\n",
    "mes31={'enero','marzo','mayo','julio','agosto','octubre','diciembre'}\n",
    "mes30={'abril','junio','septiembre','noviembre'}\n",
    "while m!='enero' and m!='febrero' and m!='marzo' and m!='abril' and m!='mayo' and m!='junio' and m!='julio' and m!='agosto' and m!='septiembre' and m!='octubre' and m!='noviembre' and m!='diciembre':\n",
    "    m=input('Ingrese el nombre de un mes: ')\n",
    "    m=m.lower()\n",
    "b=input('Si el año es bisiesto presione \"Y\", de lo contrario presione \"N\": ')\n",
    "b=b.lower()\n",
    "while b!='y' and b!='n':\n",
    "    b=input('Si el año es bisiesto presione \"Y\", de lo contrario presione \"N\": ')\n",
    "    b=b.lower()\n",
    "if m=='febrero' and b=='y':\n",
    "    print('En año bisiesto febrero tiene 29 días.')\n",
    "elif m=='febrero' and b=='n':\n",
    "    print('Febrero tiene 28 días.')\n",
    "if m in mes31:\n",
    "    print(m,'tiene 31 días.')\n",
    "elif m in mes30:\n",
    "    print(m,'tiene 30 días.')"
   ]
  }
 ],
 "metadata": {
  "kernelspec": {
   "display_name": "Python 3",
   "language": "python",
   "name": "python3"
  },
  "language_info": {
   "codemirror_mode": {
    "name": "ipython",
    "version": 3
   },
   "file_extension": ".py",
   "mimetype": "text/x-python",
   "name": "python",
   "nbconvert_exporter": "python",
   "pygments_lexer": "ipython3",
   "version": "3.8.5"
  }
 },
 "nbformat": 4,
 "nbformat_minor": 4
}

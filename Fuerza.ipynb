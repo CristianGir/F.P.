{
 "cells": [
  {
   "cell_type": "code",
   "execution_count": null,
   "metadata": {},
   "outputs": [],
   "source": [
    "g=9.8\n",
    "print('Se calculará la fuerza necesaria para mover un objeto en una superficie horizontal tomando en cuenta \\\n",
    "su masa y el coeficiente de rozamiento.')"
   ]
  },
  {
   "cell_type": "code",
   "execution_count": null,
   "metadata": {},
   "outputs": [],
   "source": [
    "m=float(input('Ingrese la masa en kilogramos del objeto: '))"
   ]
  },
  {
   "cell_type": "code",
   "execution_count": null,
   "metadata": {},
   "outputs": [],
   "source": [
    "r=float(input('Ingrese el coeficiente de rozamiento: '))"
   ]
  },
  {
   "cell_type": "code",
   "execution_count": null,
   "metadata": {},
   "outputs": [],
   "source": [
    "fn=m*g\n",
    "fs=r*m*g\n",
    "nkg=fn*0.102\n",
    "skg=fs*0.102"
   ]
  },
  {
   "cell_type": "code",
   "execution_count": null,
   "metadata": {},
   "outputs": [],
   "source": [
    "print('Este objeto ejerce una fuerza normal igual a',round(fn,2),'Nw o',round(nkg,2),'kg-fuerza.')\n",
    "print('Para mover este objeto será necesario aplicar una fuerza igual a',round(fs,2),'Nw o',round(skg,2),'kg-fuerza.')"
   ]
  }
 ],
 "metadata": {
  "kernelspec": {
   "display_name": "Python 3",
   "language": "python",
   "name": "python3"
  },
  "language_info": {
   "codemirror_mode": {
    "name": "ipython",
    "version": 3
   },
   "file_extension": ".py",
   "mimetype": "text/x-python",
   "name": "python",
   "nbconvert_exporter": "python",
   "pygments_lexer": "ipython3",
   "version": "3.8.5"
  }
 },
 "nbformat": 4,
 "nbformat_minor": 4
}

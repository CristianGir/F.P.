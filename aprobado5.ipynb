{
 "cells": [
  {
   "cell_type": "code",
   "execution_count": null,
   "metadata": {},
   "outputs": [],
   "source": [
    "y='y'\n",
    "ne=1\n",
    "apr=0\n",
    "rep=0\n",
    "no=0\n",
    "while y=='y':\n",
    "    n=float(input('Ingrese la nota final del estudiante:'))\n",
    "    while n>10 or n<0:\n",
    "        n=float(input('Ingrese una nota válida para el estudiante:'))\n",
    "    ne=ne+1\n",
    "    if n>=5:\n",
    "        apr=apr+1\n",
    "    else:\n",
    "        rep=rep+1\n",
    "    if n>=7 and n<9:\n",
    "        no=no+1\n",
    "    y=input('Si desea añadir otra nota, ingrese \"Y\", de lo contrario, ingrese \"N\": ')\n",
    "    y=y.lower()\n",
    "    while y!='y' and y!='n':\n",
    "        y=input('Si desea añadir otra nota, ingrese \"Y\", de lo contrario, ingrese \"N\": ')\n",
    "    y=y.lower()\n",
    "print('La cantidad de aprobados es:',apr)\n",
    "print('La cantidad de reprobados es:',rep)\n",
    "print('La cantidad de alumnos con calificación \"Notable\" es:',no)"
   ]
  }
 ],
 "metadata": {
  "kernelspec": {
   "display_name": "Python 3",
   "language": "python",
   "name": "python3"
  },
  "language_info": {
   "codemirror_mode": {
    "name": "ipython",
    "version": 3
   },
   "file_extension": ".py",
   "mimetype": "text/x-python",
   "name": "python",
   "nbconvert_exporter": "python",
   "pygments_lexer": "ipython3",
   "version": "3.8.5"
  }
 },
 "nbformat": 4,
 "nbformat_minor": 4
}
